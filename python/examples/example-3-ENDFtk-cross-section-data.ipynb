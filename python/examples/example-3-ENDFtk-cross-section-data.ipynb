{
 "cells": [
  {
   "cell_type": "markdown",
   "id": "f00f2836",
   "metadata": {},
   "source": [
    "# Looking at cross section data in an ENDF file\n",
    "## Overview\n",
    "\n",
    "Cross section data in an ENDF file is stored in what is referred to as MF3 (aka 'file 3'). The format of each section in MF3 is relatively simple: it consists of a single ENDF record that gives tabulated energy and cross section values along with the associated interpolation data (this record is known as a TAB1 record). In addition to these data, an MF3 section also gives us the following:\n",
    "- the ZA value of the target nuclide\n",
    "- AWR: the atomic weight ratio of the target nuclide with respect to the neutron mass\n",
    "- QI: the reaction Q-value\n",
    "- QM: the mass-difference Q-value associated to the reaction\n",
    "- LR: the complex break-up flag, which indicates that additional particles not specified by the reaction will be emitted (an example here would be decay of Be8 into two alpha particles)\n",
    "\n",
    "The following is an example of the raw content of an unparsed MF3 section (in this case the n,4n cross section data for Pu239):"
   ]
  },
  {
   "cell_type": "code",
   "execution_count": null,
   "id": "5783a7fe",
   "metadata": {
    "scrolled": true
   },
   "outputs": [],
   "source": [
    "import ENDFtk\n",
    "\n",
    "tape = ENDFtk.tree.Tape.from_file( 'resources/n-Pu239.endf' )\n",
    "section = tape.material( 9437 ).file( 3 ).section( 37 )\n",
    "xs = section.parse()\n",
    "\n",
    "print( section.content )"
   ]
  },
  {
   "cell_type": "markdown",
   "id": "02c2c710",
   "metadata": {},
   "source": [
    "ENDFtk provides us with an abstracted interface that allows us access to the data in the MF3 section without having to know where the data exactly is in the ENDF record. The energy and cross section values can be extracted with the following interface:"
   ]
  },
  {
   "cell_type": "code",
   "execution_count": null,
   "id": "e74bec43",
   "metadata": {},
   "outputs": [],
   "source": [
    "number_points = xs.NP\n",
    "energies = xs.energies\n",
    "values = xs.cross_sections"
   ]
  },
  {
   "cell_type": "markdown",
   "id": "f47f27fc",
   "metadata": {},
   "source": [
    "The interpolation data for the cross section data can be retrieved with the following interface:"
   ]
  },
  {
   "cell_type": "code",
   "execution_count": null,
   "id": "96da8d93",
   "metadata": {},
   "outputs": [],
   "source": [
    "number_ranges = xs.NR\n",
    "boundaries = xs.boundaries\n",
    "interpolants = xs.interpolants"
   ]
  },
  {
   "cell_type": "markdown",
   "id": "b6e18d46",
   "metadata": {},
   "source": [
    "The additional data (the Q-values, AWR, etc.) can be retrieved with the following interface:"
   ]
  },
  {
   "cell_type": "code",
   "execution_count": null,
   "id": "d0a47e0a",
   "metadata": {},
   "outputs": [],
   "source": [
    "za = xs.ZA\n",
    "awr = xs.atomic_weight_ratio\n",
    "qm = xs.mass_difference_qvalue\n",
    "qi = xs.reaction_qvalue\n",
    "lr = xs.complex_breakup\n",
    "\n",
    "awr = xs.AWR\n",
    "qm = xs.QM\n",
    "qi = xs.QI\n",
    "lr = xs.LR"
   ]
  },
  {
   "cell_type": "markdown",
   "id": "bbdd4fab",
   "metadata": {},
   "source": [
    "## Application 1: extracting and reformatting cross section data\n",
    "This is a very simple example where we extract the cross section data from a file for a givn reaction and just reformat the data into a more human readable table. In this particular example, we are looking at n,4n in Pu239 at 0 K."
   ]
  },
  {
   "cell_type": "code",
   "execution_count": null,
   "id": "06aa8173",
   "metadata": {},
   "outputs": [],
   "source": [
    "import ENDFtk\n",
    "\n",
    "tape = ENDFtk.tree.Tape.from_file( 'resources/n-Pu239.endf' )\n",
    "\n",
    "# extract the n,4n cross section for Pu239\n",
    "section = tape.material( 9437 ).file( 3 ).section( 37 ).parse()\n",
    "\n",
    "# print out a cross section table\n",
    "print( '{:^12} | {:^12}'.format( 'energy', 'xs' ) )\n",
    "print( '{:12} | {:12}'.format( '-' * 12, '-' * 12 ) )\n",
    "for energy, value in zip( section.energies, section.cross_sections ) :\n",
    "    \n",
    "    print( '{:12.5e} | {:12.5e}'.format( energy, value ) )"
   ]
  },
  {
   "cell_type": "markdown",
   "id": "1d242fd4",
   "metadata": {},
   "source": [
    "## Application 2: plotting cross section data\n",
    "One of the most common things a user wants to do with cross section data is simply looking at the data. The following example illustrates how we can use plotting utilities in Python to plot cross section data from several ENDF files. This particular case plots the total cross section for 5 nuclides (O16, U238, Pu239, Pu240 and Pu242) at 0 K."
   ]
  },
  {
   "cell_type": "code",
   "execution_count": null,
   "id": "207ee8ad",
   "metadata": {},
   "outputs": [],
   "source": [
    "# use interactive plotting\n",
    "# ensure that ipympl is installed -> \"conda install -c conda-forge ipympl\" (for anaconda)\n",
    "# restart jupyter if required\n",
    "%matplotlib widget"
   ]
  },
  {
   "cell_type": "code",
   "execution_count": null,
   "id": "4ecbc054",
   "metadata": {},
   "outputs": [],
   "source": [
    "import ENDFtk\n",
    "import matplotlib.pyplot as plot\n",
    "\n",
    "mt = 1 # MT = 1 is the total cross section\n",
    "\n",
    "# open the ENDF file for each nuclide, get the reaction cross section and parse the data\n",
    "U238 = ENDFtk.tree.Tape.from_file( 'resources/n-U238.endf' ).material( 9237 ).file( 3 ).section( mt ).parse()\n",
    "Pu239 = ENDFtk.tree.Tape.from_file( 'resources/n-Pu239.endf' ).material( 9437 ).file( 3 ).section( mt ).parse()\n",
    "Pu240 = ENDFtk.tree.Tape.from_file( 'resources/n-Pu240.endf' ).material( 9440 ).file( 3 ).section( mt ).parse()\n",
    "Pu242 = ENDFtk.tree.Tape.from_file( 'resources/n-Pu242.endf' ).material( 9446 ).file( 3 ).section( mt ).parse()\n",
    "O16 = ENDFtk.tree.Tape.from_file( 'resources/n-O16.endf' ).material( 825 ).file( 3 ).section( mt ).parse()\n",
    "\n",
    "# plot the data\n",
    "plot.figure()\n",
    "plot.plot( U238.energies, U238.cross_sections, label = '${}^{238}$U', color = 'red', linewidth = 1.0 )\n",
    "plot.plot( Pu239.energies, Pu239.cross_sections, label = '${}^{239}$Pu', color = 'green', linewidth = 1.0 )\n",
    "plot.plot( Pu240.energies, Pu240.cross_sections, label = '${}^{240}$Pu', color = 'blue', linewidth = 1.0 )\n",
    "plot.plot( Pu242.energies, Pu242.cross_sections, label = '${}^{242}$Pu', color = 'orange', linewidth = 1.0 )\n",
    "plot.plot( O16.energies, O16.cross_sections, label = '${}^{16}$O', color = 'olive', linewidth = 1.0 )\n",
    "plot.xlabel( 'Energy (eV)' )\n",
    "plot.ylabel( 'Cross Section (b)' )\n",
    "plot.title( 'ENDF/B-VII.1 total cross section at 293.6 K' )\n",
    "plot.xlim( 1e-5, 10e+6 )\n",
    "plot.ylim( 1e-1, 1e+6 )\n",
    "plot.xscale( 'log' )\n",
    "plot.yscale( 'log' )\n",
    "plot.legend()\n",
    "plot.show()"
   ]
  },
  {
   "cell_type": "code",
   "execution_count": null,
   "id": "f653d838",
   "metadata": {},
   "outputs": [],
   "source": []
  }
 ],
 "metadata": {
  "kernelspec": {
   "display_name": "Python 3",
   "language": "python",
   "name": "python3"
  },
  "language_info": {
   "codemirror_mode": {
    "name": "ipython",
    "version": 3
   },
   "file_extension": ".py",
   "mimetype": "text/x-python",
   "name": "python",
   "nbconvert_exporter": "python",
   "pygments_lexer": "ipython3",
   "version": "3.8.8"
  }
 },
 "nbformat": 4,
 "nbformat_minor": 5
}
