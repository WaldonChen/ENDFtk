{
 "cells": [
  {
   "cell_type": "markdown",
   "id": "a6a66f36",
   "metadata": {},
   "source": [
    "# Opening, navigating and parsing pieces of an ENDF file \n",
    "## overview\n",
    "An ENDF tape contains a lot of information. Older ENDF tapes even contained the data for multiple materials. In most cases, users are only interested in small pieces of the full tape and so it is not very efficient to parse the entire ENDF tape when accessing the file. As a result, `ENDFtk` provides a tree based view into the ENDF file that allows a user to navigate to the specific parts of the ENDF file before parsing the data.\n",
    "\n",
    "An ENDF tape can be read into this tree structure as follows:"
   ]
  },
  {
   "cell_type": "code",
   "execution_count": null,
   "id": "15597721",
   "metadata": {},
   "outputs": [],
   "source": [
    "import ENDFtk\n",
    "\n",
    "tape = ENDFtk.tree.Tape.from_file( 'resources/n-Pu239.endf' )"
   ]
  },
  {
   "cell_type": "markdown",
   "id": "d162f171",
   "metadata": {},
   "source": [
    "An `ENDFtk.tree.Tape` effectively indexes the file into available materials, files and sections, which can be parsed at will by the user. The `ENDFtk.tree` submodule also provides an `ENDFtk.tree.Material`, `ENDFtk.tree.File` and `ENDFtk.tree.Section` that the user can look through before parsing the data that is contained in any of these. Parsing the data requires strict adherence to the ENDF6 format but loading the data into an `ENDFtk.tree.Tape` does not. As a result, the `ENDFtk.tree.Tape` is also capable of indexing older ENDF files that do not conform with the ENDF6 standard (tests have shown that we can index files as old as ENDF/B-II).\n",
    "\n",
    "Once the data is indexed into an `ENDFtk.tree.Tape` object, a user can navigate to the specific pieces retrieve specific pieces from the tape (entire materials, files or sections) as follows:"
   ]
  },
  {
   "cell_type": "code",
   "execution_count": null,
   "id": "301e7a4b",
   "metadata": {},
   "outputs": [],
   "source": [
    "material = tape.material( 9437 )\n",
    "file = tape.material( 9437 ).file( 3 )\n",
    "section = tape.material( 9437 ).file( 3 ).section( 18 )"
   ]
  },
  {
   "cell_type": "markdown",
   "id": "15cbfd64",
   "metadata": {},
   "source": [
    "`ENDFtk` also provides an interface that emulates the ENDF nomenclature traditionally used for ENDF files (we will refer to this as 'ENDF speak'). The following piece of code achieves the same results as the previous piece of code, but does so using the traditional ENDF speak:"
   ]
  },
  {
   "cell_type": "code",
   "execution_count": null,
   "id": "a66612d9",
   "metadata": {},
   "outputs": [],
   "source": [
    "material = tape.MAT( 9437 )\n",
    "file = tape.MAT( 9437 ).MF( 3 )\n",
    "section = tape.MAT( 9437 ).MF( 3 ).MT( 18 )"
   ]
  },
  {
   "cell_type": "markdown",
   "id": "26220557",
   "metadata": {},
   "source": [
    "A user can also interrogate these objects to see if specific materials, files and sections are present:"
   ]
  },
  {
   "cell_type": "code",
   "execution_count": null,
   "id": "ea5dcd7e",
   "metadata": {},
   "outputs": [],
   "source": [
    "tape.has_material( 9437 )\n",
    "material.has_file( 3 )\n",
    "file.has_section( 102 )"
   ]
  },
  {
   "cell_type": "markdown",
   "id": "f7b2e903",
   "metadata": {},
   "source": [
    "This is only one of the ways a user can navigate over a tree. The various components of the tree also allow a user to retrieve all materials, files and sections, which a user can then loop over if desired:"
   ]
  },
  {
   "cell_type": "code",
   "execution_count": null,
   "id": "563d5490",
   "metadata": {},
   "outputs": [],
   "source": [
    "count = 0\n",
    "for material in tape.materials :\n",
    "    \n",
    "    for file in material.files :\n",
    "        \n",
    "        for section in file.sections :\n",
    "            \n",
    "            count += 1"
   ]
  },
  {
   "cell_type": "markdown",
   "id": "331173ca",
   "metadata": {},
   "source": [
    "At this point, the objects retrieved from the ENDF tree are still unparsed objects. To parse these pieces of the ENDF file, we simply have to call the `parse()` function on these objects:"
   ]
  },
  {
   "cell_type": "code",
   "execution_count": null,
   "id": "faa05f80",
   "metadata": {},
   "outputs": [],
   "source": [
    "material = tape.material( 9437 ).parse()\n",
    "file = tape.material( 9437 ).file( 3 ).parse()\n",
    "section = tape.material( 9437 ).file( 3 ).section( 18 ).parse()"
   ]
  },
  {
   "cell_type": "markdown",
   "id": "81c2fd5b",
   "metadata": {},
   "source": [
    "Accessing the underlying files and sections from parsed materials and files uses the same function names as the tree components to make the interface as intuitive as possible. In this case, because the parent objects are already parsed, there is no need to parse the resulting object:"
   ]
  },
  {
   "cell_type": "code",
   "execution_count": null,
   "id": "c1eb83e7",
   "metadata": {},
   "outputs": [],
   "source": [
    "material = tape.material( 9437 ).parse()\n",
    "file = material.file( 3 )\n",
    "section = file.section( 18 )"
   ]
  },
  {
   "cell_type": "markdown",
   "id": "5efdd4a9",
   "metadata": {},
   "source": [
    "## Application 1: printing an overview of the content of an ENDF tape\n",
    "With the functionality presented above, we can now develop a simple tool that prints out an overview of the content of an entire ENDF tape along with the total number of lines for each section. The code given below will loop over all materials, files and sections and give a rough overview of the content of an ENDF tape."
   ]
  },
  {
   "cell_type": "code",
   "execution_count": null,
   "id": "56c29550",
   "metadata": {},
   "outputs": [],
   "source": [
    "import ENDFtk\n",
    "\n",
    "filename = 'resources/n-Pu239.endf'\n",
    "\n",
    "tape = ENDFtk.tree.Tape.from_file( filename )\n",
    "for material in tape.materials :\n",
    "    \n",
    "    print( 'Material {:4}'.format( material.material_number ) )\n",
    "    for file in material.files :\n",
    "        \n",
    "        print( '  File {:2}'.format( file.file_number ) )\n",
    "        for section in file.sections :\n",
    "            \n",
    "            print( '    Section {:3}, {:5} lines'.format( section.section_number, section.NC ) )"
   ]
  },
  {
   "cell_type": "markdown",
   "id": "fd4fca41",
   "metadata": {},
   "source": [
    "## Application 2: parsing all ENDF files in a given directory structure\n",
    "In the following application, the content of a directory is analysed to retrieve all ENDF files (using the .endf extension) after which all files are fully parsed. This entire process is timed and all failures will be reported."
   ]
  },
  {
   "cell_type": "code",
   "execution_count": null,
   "id": "f53a715b",
   "metadata": {},
   "outputs": [],
   "source": [
    "import os\n",
    "\n",
    "# a recursive function to find all files with a given extension in a directory\n",
    "def getFilesInFolder( directory, extension ) :\n",
    "\n",
    "    files = os.listdir( directory )\n",
    "    everything = list()\n",
    "\n",
    "    for entry in files :\n",
    "\n",
    "        file = os.path.join( directory, entry )\n",
    "\n",
    "        if os.path.isdir( file ) :\n",
    "\n",
    "            everything += getFilesInFolder( file, extension )\n",
    "\n",
    "        else :\n",
    "\n",
    "            everything.append( file )\n",
    "\n",
    "    return [ file for file in everything if file.endswith( extension ) ]"
   ]
  },
  {
   "cell_type": "code",
   "execution_count": null,
   "id": "74836354",
   "metadata": {},
   "outputs": [],
   "source": [
    "import ENDFtk\n",
    "import time\n",
    "\n",
    "path = 'resources'\n",
    "files = getFilesInFolder( path, 'endf' )\n",
    "failed = []\n",
    "\n",
    "start = time.perf_counter()\n",
    "for file in files :\n",
    "\n",
    "    try :\n",
    "\n",
    "        tape = ENDFtk.tree.Tape.from_file( file )\n",
    "        materials = [ material.parse() for material in tape.materials ]\n",
    "\n",
    "    except :\n",
    "\n",
    "        print( 'FAILED', file )\n",
    "        failed.append( file )\n",
    "\n",
    "end = time.perf_counter()\n",
    "\n",
    "print( '-------------------------' )\n",
    "print( '{:4} files'.format( len( files ) ) )\n",
    "print( '{:4} failed'.format( len( failed ) ) )\n",
    "print( 'elapsed time = {:.3} s'.format( end - start ) )\n",
    "print( '-------------------------' )"
   ]
  },
  {
   "cell_type": "code",
   "execution_count": null,
   "id": "9d108125",
   "metadata": {},
   "outputs": [],
   "source": []
  }
 ],
 "metadata": {
  "kernelspec": {
   "display_name": "Python 3",
   "language": "python",
   "name": "python3"
  },
  "language_info": {
   "codemirror_mode": {
    "name": "ipython",
    "version": 3
   },
   "file_extension": ".py",
   "mimetype": "text/x-python",
   "name": "python",
   "nbconvert_exporter": "python",
   "pygments_lexer": "ipython3",
   "version": "3.8.8"
  }
 },
 "nbformat": 4,
 "nbformat_minor": 5
}
